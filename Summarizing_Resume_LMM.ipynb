{
 "cells": [
  {
   "cell_type": "markdown",
   "id": "9e928c23-6098-49de-b9d0-4ffa137687d3",
   "metadata": {},
   "source": [
    "\n",
    "# Resume Summarization using OpenAI GPT\n",
    "\n",
    "## Overview\n",
    "This script processes a resume (either from plain text input or an uploaded file) and generates a concise summary \n",
    "using OpenAIs GPT model (gpt_4o_mini). It is useful for quickly extracting key highlights from a resume.\n",
    "\n",
    "## Features\n",
    "- Extracts resume content from text input.\n",
    "- Uses OpenAI’s latest API (`gpt-4o-mini`) for summarization.\n",
    "- Supports `.env` file to securely store API keys.\n",
    "- Ensures compatibility with the latest OpenAI Python package.\n",
    "\n",
    "## Installation\n",
    "Ensure you have Python installed, then install the required dependencies:\n",
    "```bash\n",
    "pip install openai python-dotenv\n"
   ]
  },
  {
   "cell_type": "code",
   "execution_count": 8,
   "id": "11916da5-dd05-4a10-98d8-1727e63c83b7",
   "metadata": {},
   "outputs": [
    {
     "name": "stdout",
     "output_type": "stream",
     "text": [
      "Requirement already satisfied: openai in /Users/manishankar/Documents/anaconda3/envs/llms/lib/python3.11/site-packages (1.64.0)\n",
      "Requirement already satisfied: anyio<5,>=3.5.0 in /Users/manishankar/Documents/anaconda3/envs/llms/lib/python3.11/site-packages (from openai) (4.8.0)\n",
      "Requirement already satisfied: distro<2,>=1.7.0 in /Users/manishankar/Documents/anaconda3/envs/llms/lib/python3.11/site-packages (from openai) (1.9.0)\n",
      "Requirement already satisfied: httpx<1,>=0.23.0 in /Users/manishankar/Documents/anaconda3/envs/llms/lib/python3.11/site-packages (from openai) (0.28.1)\n",
      "Requirement already satisfied: jiter<1,>=0.4.0 in /Users/manishankar/Documents/anaconda3/envs/llms/lib/python3.11/site-packages (from openai) (0.8.2)\n",
      "Requirement already satisfied: pydantic<3,>=1.9.0 in /Users/manishankar/Documents/anaconda3/envs/llms/lib/python3.11/site-packages (from openai) (2.10.6)\n",
      "Requirement already satisfied: sniffio in /Users/manishankar/Documents/anaconda3/envs/llms/lib/python3.11/site-packages (from openai) (1.3.1)\n",
      "Requirement already satisfied: tqdm>4 in /Users/manishankar/Documents/anaconda3/envs/llms/lib/python3.11/site-packages (from openai) (4.67.1)\n",
      "Requirement already satisfied: typing-extensions<5,>=4.11 in /Users/manishankar/Documents/anaconda3/envs/llms/lib/python3.11/site-packages (from openai) (4.12.2)\n",
      "Requirement already satisfied: idna>=2.8 in /Users/manishankar/Documents/anaconda3/envs/llms/lib/python3.11/site-packages (from anyio<5,>=3.5.0->openai) (3.10)\n",
      "Requirement already satisfied: certifi in /Users/manishankar/Documents/anaconda3/envs/llms/lib/python3.11/site-packages (from httpx<1,>=0.23.0->openai) (2025.1.31)\n",
      "Requirement already satisfied: httpcore==1.* in /Users/manishankar/Documents/anaconda3/envs/llms/lib/python3.11/site-packages (from httpx<1,>=0.23.0->openai) (1.0.7)\n",
      "Requirement already satisfied: h11<0.15,>=0.13 in /Users/manishankar/Documents/anaconda3/envs/llms/lib/python3.11/site-packages (from httpcore==1.*->httpx<1,>=0.23.0->openai) (0.14.0)\n",
      "Requirement already satisfied: annotated-types>=0.6.0 in /Users/manishankar/Documents/anaconda3/envs/llms/lib/python3.11/site-packages (from pydantic<3,>=1.9.0->openai) (0.7.0)\n",
      "Requirement already satisfied: pydantic-core==2.27.2 in /Users/manishankar/Documents/anaconda3/envs/llms/lib/python3.11/site-packages (from pydantic<3,>=1.9.0->openai) (2.27.2)\n",
      "Note: you may need to restart the kernel to use updated packages.\n"
     ]
    }
   ],
   "source": [
    "pip install --upgrade openai\n"
   ]
  },
  {
   "cell_type": "code",
   "execution_count": 6,
   "id": "89049998-0d59-4f6f-b5af-a10ba8e7b5a0",
   "metadata": {
    "editable": true,
    "slideshow": {
     "slide_type": ""
    },
    "tags": []
   },
   "outputs": [
    {
     "name": "stdout",
     "output_type": "stream",
     "text": [
      "### Resume Summary ###\n",
      "\n",
      "**John Doe - Resume Highlights:**\n",
      "\n",
      "- **Profession:** Software Developer\n",
      "- **Experience:** 5 years in Java, SQL, and full-stack development\n",
      "- **Previous Employment:** Backend Engineer at Deloitte, involved in large-scale enterprise applications\n",
      "- **Education:** Master's degree (specifics not provided)\n",
      "- **Internship:** Full Stack Developer at CHA Solutions\n",
      "- **Recent Projects:** Focus on AI-driven automation and cloud deployment solutions\n",
      "- **Job Seeking:** Open to roles in Machine Learning Engineering or Cloud Development\n"
     ]
    }
   ],
   "source": [
    "import openai\n",
    "import os\n",
    "from dotenv import load_dotenv\n",
    "\n",
    "# Load API key from .env file\n",
    "load_dotenv()\n",
    "openai.api_key = os.getenv(\"OPENAI_API_KEY\")  # Ensure API key is set correctly\n",
    "\n",
    "# Sample resume content\n",
    "resume_text = \"\"\"\n",
    "John Doe is a Software Developer with 5 years of experience in Java, SQL, and full-stack development. \n",
    "He worked at Deloitte as a backend engineer, contributing to large-scale enterprise applications. \n",
    "He later pursued a Master's degree, completing a Full Stack Developer internship at CHA Solutions. \n",
    "His recent projects include AI-driven automation and cloud deployment solutions. \n",
    "He is currently seeking roles in Machine Learning Engineering or Cloud Development.\n",
    "\"\"\"\n",
    "\n",
    "def summarize_resume(text):\n",
    "    \"\"\"Summarizes a given resume text using OpenAI's GPT-4o-mini.\"\"\"\n",
    "    client = openai.OpenAI()  # Create OpenAI client instance\n",
    "    response = client.chat.completions.create(\n",
    "        model=\"gpt-4o-mini\",  # Use gpt-4o-mini\n",
    "        messages=[\n",
    "            {\"role\": \"system\", \"content\": \"You are an AI that extracts key highlights from a resume.\"},\n",
    "            {\"role\": \"user\", \"content\": f\"Summarize the following resume:\\n\\n{text[:4096]}\"}  # Ensure within token limit\n",
    "        ]\n",
    "    )\n",
    "    return response.choices[0].message.content  # Extract summary from API response\n",
    "\n",
    "# Generate the summary\n",
    "resume_summary = summarize_resume(resume_text)\n",
    "\n",
    "# Print the summary\n",
    "print(\"### Resume Summary ###\\n\")\n",
    "print(resume_summary)\n"
   ]
  },
  {
   "cell_type": "code",
   "execution_count": null,
   "id": "b2ee7c36-4eb9-44f2-92bf-98de731bcb70",
   "metadata": {},
   "outputs": [],
   "source": []
  }
 ],
 "metadata": {
  "kernelspec": {
   "display_name": "Python 3",
   "language": "python",
   "name": "python3"
  },
  "language_info": {
   "codemirror_mode": {
    "name": "ipython",
    "version": 3
   },
   "file_extension": ".py",
   "mimetype": "text/x-python",
   "name": "python",
   "nbconvert_exporter": "python",
   "pygments_lexer": "ipython3",
   "version": "3.13.1"
  }
 },
 "nbformat": 4,
 "nbformat_minor": 5
}
